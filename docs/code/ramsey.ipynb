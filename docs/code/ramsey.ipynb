{
 "cells": [
  {
   "cell_type": "code",
   "execution_count": 4,
   "metadata": {},
   "outputs": [],
   "source": [
    "class RamseyModel(object):\n",
    "\n",
    "    def __init__(self,alpha):\n",
    "        self.alpha = alpha\n",
    "    \n",
    "    def get_output(self,k):\n",
    "        alpha  = self.alpha\n",
    "        y = k**alpha\n",
    "        return y\n",
    "    \n",
    "    def get_investment(self,k,c):\n",
    "        i = self.get_output(k)-c\n",
    "        return i\n",
    "\n",
    "    def get_wageRate(self,k):\n",
    "        \"\"\"获得有效劳动的工资率\n",
    "\n",
    "        \"\"\"\n",
    "        # 抽取资本收入份额参数alpha\n",
    "        alpha = self.alpha\n",
    "\n",
    "        # 获得有效劳动的实际工资率\n",
    "        w = (1-alpha)*self.get_output(k)\n",
    "        return w"
   ]
  },
  {
   "cell_type": "code",
   "execution_count": 5,
   "metadata": {},
   "outputs": [
    {
     "data": {
      "text/plain": [
       "0.6699999999999999"
      ]
     },
     "execution_count": 5,
     "metadata": {},
     "output_type": "execute_result"
    }
   ],
   "source": [
    "model = RamseyModel(0.33)\n",
    "model.get_wageRate(1)"
   ]
  }
 ],
 "metadata": {
  "kernelspec": {
   "display_name": "Python 3.10.5 64-bit",
   "language": "python",
   "name": "python3"
  },
  "language_info": {
   "codemirror_mode": {
    "name": "ipython",
    "version": 3
   },
   "file_extension": ".py",
   "mimetype": "text/x-python",
   "name": "python",
   "nbconvert_exporter": "python",
   "pygments_lexer": "ipython3",
   "version": "3.10.5"
  },
  "orig_nbformat": 4,
  "vscode": {
   "interpreter": {
    "hash": "e7370f93d1d0cde622a1f8e1c04877d8463912d04d973331ad4851f04de6915a"
   }
  }
 },
 "nbformat": 4,
 "nbformat_minor": 2
}
