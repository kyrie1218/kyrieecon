{
 "cells": [
  {
   "cell_type": "markdown",
   "id": "dae2bea6",
   "metadata": {},
   "source": [
    "## Latex数学符号"
   ]
  },
  {
   "cell_type": "markdown",
   "id": "7c8f5fda",
   "metadata": {},
   "source": [
    "分段函数\n",
    "```tex\n",
    "\\begin{align}\n",
    "f(x) = \n",
    "\\begin{cases}\n",
    "2x & x>0 \\\\\n",
    "x^{2} & x \\leq 0\n",
    "\\end{cases}\n",
    "\\end{align}\n",
    "```"
   ]
  },
  {
   "cell_type": "markdown",
   "id": "6939a7dc",
   "metadata": {},
   "source": [
    "\\begin{align}\n",
    "f(x) = \n",
    "\\begin{cases}\n",
    "2x & x>0 \\\\\n",
    "x^{2} & x \\leq 0\n",
    "\\end{cases}\n",
    "\\end{align}"
   ]
  },
  {
   "cell_type": "code",
   "execution_count": null,
   "id": "3d4217d5",
   "metadata": {},
   "outputs": [],
   "source": []
  },
  {
   "cell_type": "code",
   "execution_count": null,
   "id": "844249f0",
   "metadata": {},
   "outputs": [],
   "source": []
  }
 ],
 "metadata": {
  "kernelspec": {
   "display_name": "Python 3 (ipykernel)",
   "language": "python",
   "name": "python3"
  },
  "language_info": {
   "codemirror_mode": {
    "name": "ipython",
    "version": 3
   },
   "file_extension": ".py",
   "mimetype": "text/x-python",
   "name": "python",
   "nbconvert_exporter": "python",
   "pygments_lexer": "ipython3",
   "version": "3.9.7"
  }
 },
 "nbformat": 4,
 "nbformat_minor": 5
}
