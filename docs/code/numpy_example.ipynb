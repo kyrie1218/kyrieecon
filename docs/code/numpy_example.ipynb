{
 "cells": [
  {
   "cell_type": "code",
   "execution_count": 8,
   "metadata": {},
   "outputs": [
    {
     "name": "stdout",
     "output_type": "stream",
     "text": [
      "[1 2 1]\n",
      "3\n",
      "1\n"
     ]
    }
   ],
   "source": [
    "import numpy as np # 导入numpy库\n",
    "\n",
    "# 创建ndarray\n",
    "a = np.array([1,2,1])\n",
    "print(a)\n",
    "# 操作ndarray\n",
    "print(a.size) # 查看元素个数\n",
    "print(a.ndim) # 查看维数"
   ]
  },
  {
   "cell_type": "code",
   "execution_count": 37,
   "metadata": {},
   "outputs": [
    {
     "name": "stdout",
     "output_type": "stream",
     "text": [
      "[0. 0. 0. 0. 0. 0. 0. 0. 0. 0. 0. 0. 0. 0. 0. 0. 0. 0. 0. 0. 0. 0. 0. 0.\n",
      " 0. 0. 0. 0. 0. 0. 0. 0. 0. 0. 0. 0. 0. 0. 0. 0. 0. 0. 0. 0. 0. 0. 0. 0.\n",
      " 0. 0. 0. 0. 0. 0. 0. 0. 0. 0. 0. 0. 0. 0. 0. 0. 0. 0. 0. 0. 0. 0. 0. 0.\n",
      " 0. 0. 0. 0. 0. 0. 0. 0. 0. 0. 0. 0. 0. 0. 0. 0. 0. 0. 0. 0. 0. 0. 0. 0.\n",
      " 0. 0. 0. 0.]\n",
      "[[0 0 0]\n",
      " [0 0 0]]\n",
      "[[1 1]\n",
      " [1 1]\n",
      " [1 1]]\n",
      "[[0.46241322 0.57428957 0.29128704]\n",
      " [0.05971546 0.94458433 0.29752747]\n",
      " [0.61279118 0.70156513 0.29074436]\n",
      " [0.62492375 0.66622209 0.24629856]]\n",
      "[[2 4]\n",
      " [7 7]]\n",
      "[[[1 1 1 1]\n",
      "  [1 1 1 1]\n",
      "  [1 1 1 1]]\n",
      "\n",
      " [[1 1 1 1]\n",
      "  [1 1 1 1]\n",
      "  [1 1 1 1]]]\n"
     ]
    }
   ],
   "source": [
    "# 专题1：创建ndarray\n",
    "# 1. 零ndarray\n",
    "b = np.zeros(100)\n",
    "print(b)\n",
    "\n",
    "c = np.zeros((2,3),dtype = 'int64')\n",
    "print(c)\n",
    "# 2. 单位ndarry\n",
    "one_a = np.ones((3,2),dtype='int64')\n",
    "print(one_a)\n",
    "\n",
    "# 3. 随机ndarry\n",
    "rand_a = np.random.rand(4,3) # 4行3列的连续均匀分布[0,1)\n",
    "print(rand_a)\n",
    "\n",
    "randint_a = np.random.randint([1,3],[9,10],size=(2,2)) # 5行3列的离散均匀分布[1,10)\n",
    "print(randint_a)\n",
    "\n"
   ]
  }
 ],
 "metadata": {
  "kernelspec": {
   "display_name": "Python 3.9.12 ('base')",
   "language": "python",
   "name": "python3"
  },
  "language_info": {
   "codemirror_mode": {
    "name": "ipython",
    "version": 3
   },
   "file_extension": ".py",
   "mimetype": "text/x-python",
   "name": "python",
   "nbconvert_exporter": "python",
   "pygments_lexer": "ipython3",
   "version": "3.9.12"
  },
  "orig_nbformat": 4,
  "vscode": {
   "interpreter": {
    "hash": "0d658b7905e2c8750a6281b8a0b6e5290a8ccefba68e865f2b292fdf99255727"
   }
  }
 },
 "nbformat": 4,
 "nbformat_minor": 2
}
